{
 "cells": [
  {
   "cell_type": "code",
   "execution_count": 0,
   "metadata": {
    "application/vnd.databricks.v1+cell": {
     "cellMetadata": {
      "byteLimit": 2048000,
      "rowLimit": 10000
     },
     "inputWidgets": {},
     "nuid": "9c694bac-9b49-4e65-9921-c35bec2fa79c",
     "showTitle": false,
     "tableResultSettingsMap": {},
     "title": ""
    }
   },
   "outputs": [
    {
     "data": {
      "text/html": [
       "<style scoped>\n",
       "  .table-result-container {\n",
       "    max-height: 300px;\n",
       "    overflow: auto;\n",
       "  }\n",
       "  table, th, td {\n",
       "    border: 1px solid black;\n",
       "    border-collapse: collapse;\n",
       "  }\n",
       "  th, td {\n",
       "    padding: 5px;\n",
       "  }\n",
       "  th {\n",
       "    text-align: left;\n",
       "  }\n",
       "</style><div class='table-result-container'><table class='table-result'><thead style='background-color: white'><tr><th>path</th><th>name</th><th>size</th><th>modificationTime</th></tr></thead><tbody><tr><td>abfss://raw-data@nyctaxiproject003.dfs.core.windows.net/yellow_tripdata_2020-01.csv</td><td>yellow_tripdata_2020-01.csv</td><td>6335</td><td>1753244849000</td></tr></tbody></table></div>"
      ]
     },
     "metadata": {
      "application/vnd.databricks.v1+output": {
       "addedWidgets": {},
       "aggData": [],
       "aggError": "",
       "aggOverflow": false,
       "aggSchema": [],
       "aggSeriesLimitReached": false,
       "aggType": "",
       "arguments": {},
       "columnCustomDisplayInfos": {},
       "data": [
        [
         "abfss://raw-data@nyctaxiproject003.dfs.core.windows.net/yellow_tripdata_2020-01.csv",
         "yellow_tripdata_2020-01.csv",
         6335,
         1753244849000
        ]
       ],
       "datasetInfos": [],
       "dbfsResultPath": null,
       "isJsonSchema": true,
       "metadata": {},
       "overflow": false,
       "plotOptions": {
        "customPlotOptions": {},
        "displayType": "table",
        "pivotAggregation": null,
        "pivotColumns": null,
        "xColumns": null,
        "yColumns": null
       },
       "removedWidgets": [],
       "schema": [
        {
         "metadata": "{}",
         "name": "path",
         "type": "\"string\""
        },
        {
         "metadata": "{}",
         "name": "name",
         "type": "\"string\""
        },
        {
         "metadata": "{}",
         "name": "size",
         "type": "\"long\""
        },
        {
         "metadata": "{}",
         "name": "modificationTime",
         "type": "\"long\""
        }
       ],
       "type": "table"
      }
     },
     "output_type": "display_data"
    }
   ],
   "source": [
    "# Set the storage account key\n",
    "spark.conf.set(\n",
    "    \n",
    "    \n",
    ")\n",
    "\n",
    "# List the files in the specified directory\n",
    "display(dbutils.fs.ls(\"abfss://raw-data@nyctaxiproject003.dfs.core.windows.net/\"))"
   ]
  },
  {
   "cell_type": "code",
   "execution_count": 0,
   "metadata": {
    "application/vnd.databricks.v1+cell": {
     "cellMetadata": {
      "byteLimit": 2048000,
      "rowLimit": 10000
     },
     "inputWidgets": {},
     "nuid": "e42ec3f0-c6e0-42fb-9a01-542c12b18637",
     "showTitle": false,
     "tableResultSettingsMap": {},
     "title": ""
    }
   },
   "outputs": [],
   "source": [
    "spark.conf.set(\n",
    "    \n",
    ")\n",
    "df = spark.read.format(\"csv\") \\\n",
    "    .option(\"header\", \"true\") \\\n",
    "    .option(\"inferSchema\", \"true\") \\\n",
    "    .load(\"abfss://raw-data@nyctaxiproject003.dfs.core.windows.net/yellow_tripdata_2020-01-01.csv\")\n"
   ]
  },
  {
   "cell_type": "code",
   "execution_count": 0,
   "metadata": {
    "application/vnd.databricks.v1+cell": {
     "cellMetadata": {
      "byteLimit": 2048000,
      "rowLimit": 10000
     },
     "inputWidgets": {},
     "nuid": "978f803d-6ebf-42f6-8229-cc24de2cf20d",
     "showTitle": false,
     "tableResultSettingsMap": {},
     "title": ""
    }
   },
   "outputs": [
    {
     "name": "stdout",
     "output_type": "stream",
     "text": [
      "+--------+--------------------+---------------------+---------------+-------------+----------+------------------+------------+------------+------------+-----------+-----+-------+----------+------------+---------------------+------------+--------------------+-----------+\n",
      "|VendorID|tpep_pickup_datetime|tpep_dropoff_datetime|passenger_count|trip_distance|RatecodeID|store_and_fwd_flag|PULocationID|DOLocationID|payment_type|fare_amount|extra|mta_tax|tip_amount|tolls_amount|improvement_surcharge|total_amount|congestion_surcharge|airport_fee|\n",
      "+--------+--------------------+---------------------+---------------+-------------+----------+------------------+------------+------------+------------+-----------+-----+-------+----------+------------+---------------------+------------+--------------------+-----------+\n",
      "|       1|Wed Jan 01 00:28:...| Wed Jan 01 00:33:...|            1.0|          1.2|       1.0|                 N|         238|         239|           1|        6.0|  3.0|    0.5|      1.47|         0.0|                  0.3|       11.27|                 2.5|       NULL|\n",
      "|       1|Wed Jan 01 00:35:...| Wed Jan 01 00:43:...|            1.0|          1.2|       1.0|                 N|         239|         238|           1|        7.0|  3.0|    0.5|       1.5|         0.0|                  0.3|        12.3|                 2.5|       NULL|\n",
      "|       1|Wed Jan 01 00:47:...| Wed Jan 01 00:53:...|            1.0|          0.6|       1.0|                 N|         238|         238|           1|        6.0|  3.0|    0.5|       1.0|         0.0|                  0.3|        10.8|                 2.5|       NULL|\n",
      "|       1|Wed Jan 01 00:55:...| Wed Jan 01 01:00:...|            1.0|          0.8|       1.0|                 N|         238|         151|           1|        5.5|  0.5|    0.5|      1.36|         0.0|                  0.3|        8.16|                 0.0|       NULL|\n",
      "|       2|Wed Jan 01 00:01:...| Wed Jan 01 00:04:...|            1.0|          0.0|       1.0|                 N|         193|         193|           2|        3.5|  0.5|    0.5|       0.0|         0.0|                  0.3|         4.8|                 0.0|       NULL|\n",
      "|       2|Wed Jan 01 00:09:...| Wed Jan 01 00:10:...|            1.0|         0.03|       1.0|                 N|           7|         193|           2|        2.5|  0.5|    0.5|       0.0|         0.0|                  0.3|         3.8|                 0.0|       NULL|\n",
      "|       2|Wed Jan 01 00:39:...| Wed Jan 01 00:39:...|            1.0|          0.0|       1.0|                 N|         193|         193|           1|        2.5|  0.5|    0.5|      0.01|         0.0|                  0.3|        3.81|                 0.0|       NULL|\n",
      "|       2|Wed Dec 18 15:27:...| Wed Dec 18 15:28:...|            1.0|          0.0|       5.0|                 N|         193|         193|           1|       0.01|  0.0|    0.0|       0.0|         0.0|                  0.3|        2.81|                 2.5|       NULL|\n",
      "|       2|Wed Dec 18 15:30:...| Wed Dec 18 15:31:...|            4.0|          0.0|       1.0|                 N|         193|         193|           1|        2.5|  0.5|    0.5|       0.0|         0.0|                  0.3|         6.3|                 2.5|       NULL|\n",
      "|       1|Wed Jan 01 00:29:...| Wed Jan 01 00:40:...|            2.0|          0.7|       1.0|                 N|         246|          48|           1|        8.0|  3.0|    0.5|      2.35|         0.0|                  0.3|       14.15|                 2.5|       NULL|\n",
      "+--------+--------------------+---------------------+---------------+-------------+----------+------------------+------------+------------+------------+-----------+-----+-------+----------+------------+---------------------+------------+--------------------+-----------+\n",
      "only showing top 10 rows\n"
     ]
    }
   ],
   "source": [
    "df = spark.read.format(\"csv\") \\\n",
    "  .option(\"header\", \"true\") \\\n",
    "  .option(\"inferSchema\", \"true\") \\\n",
    "  .load(\"abfss://raw-data@nyctaxiproject003.dfs.core.windows.net/yellow_tripdata_2020-01.csv\")\n",
    "\n",
    "df.show(10)\n"
   ]
  },
  {
   "cell_type": "code",
   "execution_count": 0,
   "metadata": {
    "application/vnd.databricks.v1+cell": {
     "cellMetadata": {
      "byteLimit": 2048000,
      "rowLimit": 10000
     },
     "inputWidgets": {},
     "nuid": "8bd26a42-b760-4689-ad6d-2322e49e86a5",
     "showTitle": false,
     "tableResultSettingsMap": {},
     "title": ""
    }
   },
   "outputs": [
    {
     "name": "stdout",
     "output_type": "stream",
     "text": [
      "+-----------+----------+------------+-----------------+\n",
      "|fare_amount|tip_amount|total_amount|          Revenue|\n",
      "+-----------+----------+------------+-----------------+\n",
      "|        6.0|      1.47|       11.27|            22.54|\n",
      "|        7.0|       1.5|        12.3|             24.6|\n",
      "|        6.0|       1.0|        10.8|             21.6|\n",
      "|        5.5|      1.36|        8.16|            16.32|\n",
      "|        3.5|       0.0|         4.8|              9.6|\n",
      "|        2.5|       0.0|         3.8|              7.6|\n",
      "|        2.5|      0.01|        3.81|7.619999999999999|\n",
      "|       0.01|       0.0|        2.81|             3.12|\n",
      "|        2.5|       0.0|         6.3|             10.1|\n",
      "|        8.0|      2.35|       14.15|             28.3|\n",
      "+-----------+----------+------------+-----------------+\n",
      "only showing top 10 rows\n"
     ]
    }
   ],
   "source": [
    "from pyspark.sql.functions import col\n",
    "\n",
    "df = df.withColumn(\n",
    "    \"Revenue\",\n",
    "    col(\"fare_amount\") +\n",
    "    col(\"extra\") +\n",
    "    col(\"mta_tax\") +\n",
    "    col(\"improvement_surcharge\") +\n",
    "    col(\"tip_amount\") +\n",
    "    col(\"tolls_amount\") +\n",
    "    col(\"total_amount\")\n",
    ")\n",
    "\n",
    "# Show a sample of the new Revenue column\n",
    "df.select(\"fare_amount\", \"tip_amount\", \"total_amount\", \"Revenue\").show(10)\n"
   ]
  },
  {
   "cell_type": "code",
   "execution_count": 0,
   "metadata": {
    "application/vnd.databricks.v1+cell": {
     "cellMetadata": {
      "byteLimit": 2048000,
      "rowLimit": 10000
     },
     "inputWidgets": {},
     "nuid": "8db8b6de-9c87-4d54-9083-80a033229ee0",
     "showTitle": false,
     "tableResultSettingsMap": {},
     "title": ""
    }
   },
   "outputs": [
    {
     "name": "stdout",
     "output_type": "stream",
     "text": [
      "+------------+----------------+\n",
      "|PULocationID|Total_Passengers|\n",
      "+------------+----------------+\n",
      "|         193|             7.0|\n",
      "|         246|             7.0|\n",
      "|          95|             6.0|\n",
      "|         239|             4.0|\n",
      "|         234|             3.0|\n",
      "|         142|             3.0|\n",
      "|         211|             3.0|\n",
      "|         144|             3.0|\n",
      "|         141|             3.0|\n",
      "|         236|             3.0|\n",
      "+------------+----------------+\n",
      "only showing top 10 rows\n"
     ]
    }
   ],
   "source": [
    "# Group by Pickup location ID and sum the number of passengers\n",
    "from pyspark.sql.functions import sum\n",
    "\n",
    "passenger_by_area = df.groupBy(\"PULocationID\") \\\n",
    "    .agg(sum(\"passenger_count\").alias(\"Total_Passengers\")) \\\n",
    "    .orderBy(\"Total_Passengers\", ascending=False)  # Sort biggest first\n",
    "\n",
    "# Show the top 10 areas by passengers\n",
    "passenger_by_area.show(10)\n"
   ]
  },
  {
   "cell_type": "code",
   "execution_count": 0,
   "metadata": {
    "application/vnd.databricks.v1+cell": {
     "cellMetadata": {
      "byteLimit": 2048000,
      "rowLimit": 10000
     },
     "inputWidgets": {},
     "nuid": "9b13c89c-677d-439d-ae64-96e781962ec4",
     "showTitle": false,
     "tableResultSettingsMap": {},
     "title": ""
    }
   },
   "outputs": [
    {
     "name": "stdout",
     "output_type": "stream",
     "text": [
      "+--------+------------------+----------------------+\n",
      "|VendorID|      Average_Fare|Average_Total_Earnings|\n",
      "+--------+------------------+----------------------+\n",
      "|       1|               9.0|     14.50088235294118|\n",
      "|       2|10.588823529411764|    14.996470588235297|\n",
      "+--------+------------------+----------------------+\n",
      "\n"
     ]
    }
   ],
   "source": [
    "from pyspark.sql.functions import avg\n",
    "\n",
    "# Group rides by Vendor ID and calculate average fare and total earnings\n",
    "avg_vendor = df.groupBy(\"VendorID\") \\\n",
    "    .agg(\n",
    "        avg(\"fare_amount\").alias(\"Average_Fare\"),\n",
    "        avg(\"total_amount\").alias(\"Average_Total_Earnings\")\n",
    "    ) \\\n",
    "    .orderBy(\"VendorID\")\n",
    "\n",
    "# Show average fares and total earnings for each vendor\n",
    "avg_vendor.show()\n"
   ]
  },
  {
   "cell_type": "code",
   "execution_count": 0,
   "metadata": {
    "application/vnd.databricks.v1+cell": {
     "cellMetadata": {
      "byteLimit": 2048000,
      "rowLimit": 10000
     },
     "inputWidgets": {},
     "nuid": "e7dcb70f-3003-4b37-bc84-eaae4483ae64",
     "showTitle": false,
     "tableResultSettingsMap": {},
     "title": ""
    }
   },
   "outputs": [
    {
     "name": "stdout",
     "output_type": "stream",
     "text": [
      "+------------+-----+\n",
      "|payment_type|count|\n",
      "+------------+-----+\n",
      "|           1|   36|\n",
      "|           2|   14|\n",
      "|           4|    1|\n",
      "+------------+-----+\n",
      "\n"
     ]
    }
   ],
   "source": [
    "from pyspark.sql.functions import col\n",
    "\n",
    "# Count number of rides (rows) for each payment type\n",
    "payment_counts = df.groupBy(\"payment_type\") \\\n",
    "    .count() \\\n",
    "    .orderBy(col(\"count\").desc())\n",
    "\n",
    "# Show the results\n",
    "payment_counts.show()\n"
   ]
  },
  {
   "cell_type": "code",
   "execution_count": 0,
   "metadata": {
    "application/vnd.databricks.v1+cell": {
     "cellMetadata": {
      "byteLimit": 2048000,
      "rowLimit": 10000
     },
     "inputWidgets": {},
     "nuid": "a848702f-55f8-460a-9595-8d4dcb8744d5",
     "showTitle": false,
     "tableResultSettingsMap": {},
     "title": ""
    }
   },
   "outputs": [],
   "source": [
    "#   query 05\n",
    "from pyspark.sql.functions import to_date, sum as spark_sum\n",
    "\n",
    "# First, convert pickup datetime into a new column showing only the date\n",
    "df = df.withColumn(\"trip_date\", to_date(\"tpep_pickup_datetime\"))\n"
   ]
  },
  {
   "cell_type": "code",
   "execution_count": 0,
   "metadata": {
    "application/vnd.databricks.v1+cell": {
     "cellMetadata": {
      "byteLimit": 2048000,
      "rowLimit": 10000
     },
     "inputWidgets": {},
     "nuid": "a825d393-c013-453f-9c4d-58ca401c5534",
     "showTitle": false,
     "tableResultSettingsMap": {},
     "title": ""
    }
   },
   "outputs": [],
   "source": [
    "# Now group by Vendor and Date to get total:\n",
    "# - Earnings\n",
    "# - Passengers\n",
    "# - Distance\n",
    "vendor_stats = df.groupBy(\"VendorID\", \"trip_date\") \\\n",
    "    .agg(\n",
    "        spark_sum(\"total_amount\").alias(\"Total_Earnings\"),\n",
    "        spark_sum(\"passenger_count\").alias(\"Total_Passengers\"),\n",
    "        spark_sum(\"trip_distance\").alias(\"Total_Distance\")\n",
    "    )\n"
   ]
  },
  {
   "cell_type": "code",
   "execution_count": 0,
   "metadata": {
    "application/vnd.databricks.v1+cell": {
     "cellMetadata": {
      "byteLimit": 2048000,
      "rowLimit": 10000
     },
     "inputWidgets": {},
     "nuid": "5119fc02-e672-44ed-a9b2-f551f820a815",
     "showTitle": false,
     "tableResultSettingsMap": {},
     "title": ""
    }
   },
   "outputs": [
    {
     "name": "stdout",
     "output_type": "stream",
     "text": [
      "+--------+---------+--------------+----------------+--------------+\n",
      "|VendorID|trip_date|Total_Earnings|Total_Passengers|Total_Distance|\n",
      "+--------+---------+--------------+----------------+--------------+\n",
      "+--------+---------+--------------+----------------+--------------+\n",
      "\n"
     ]
    }
   ],
   "source": [
    "# Now filter for the date \"2020-01-15\"\n",
    "vendor_on_date = vendor_stats.filter(vendor_stats.trip_date == \"2020-01-15\")\n",
    "top_2_vendors = vendor_on_date.orderBy(\"Total_Earnings\", ascending=False).limit(2)\n",
    "top_2_vendors.show()\n"
   ]
  },
  {
   "cell_type": "code",
   "execution_count": 0,
   "metadata": {
    "application/vnd.databricks.v1+cell": {
     "cellMetadata": {
      "byteLimit": 2048000,
      "rowLimit": 10000
     },
     "inputWidgets": {},
     "nuid": "290e28a1-2a8f-44ac-820d-cb7cfc45d235",
     "showTitle": false,
     "tableResultSettingsMap": {},
     "title": ""
    }
   },
   "outputs": [
    {
     "name": "stdout",
     "output_type": "stream",
     "text": [
      "+------------+------------+----------------+\n",
      "|PULocationID|DOLocationID|Total_Passengers|\n",
      "+------------+------------+----------------+\n",
      "|         193|         193|             7.0|\n",
      "|          95|          95|             6.0|\n",
      "|         211|         234|             3.0|\n",
      "|         246|          48|             3.0|\n",
      "|         246|          79|             2.0|\n",
      "|         141|         140|             2.0|\n",
      "|         234|         238|             2.0|\n",
      "|         148|          49|             2.0|\n",
      "|         239|         142|             2.0|\n",
      "|         236|         262|             2.0|\n",
      "+------------+------------+----------------+\n",
      "only showing top 10 rows\n"
     ]
    }
   ],
   "source": [
    "#query 06\n",
    "from pyspark.sql.functions import sum as spark_sum\n",
    "\n",
    "# Group by route (pickup + dropoff) and count all passengers\n",
    "route_passengers = df.groupBy(\"PULocationID\", \"DOLocationID\") \\\n",
    "    .agg(spark_sum(\"passenger_count\").alias(\"Total_Passengers\")) \\\n",
    "    .orderBy(\"Total_Passengers\", ascending=False)\n",
    "\n",
    "# Show the top 10 busiest routes\n",
    "route_passengers.show(10)\n"
   ]
  },
  {
   "cell_type": "code",
   "execution_count": 0,
   "metadata": {
    "application/vnd.databricks.v1+cell": {
     "cellMetadata": {
      "byteLimit": 2048000,
      "rowLimit": 10000
     },
     "inputWidgets": {},
     "nuid": "d655f363-9d71-40ae-a018-ed8056815831",
     "showTitle": false,
     "tableResultSettingsMap": {},
     "title": ""
    }
   },
   "outputs": [
    {
     "name": "stdout",
     "output_type": "stream",
     "text": [
      "Max timestamp in dataset: None\n"
     ]
    }
   ],
   "source": [
    "#query07\n",
    "from pyspark.sql.functions import unix_timestamp, max as spark_max\n",
    "\n",
    "# Convert pickup timestamp to epoch second time (a big number)\n",
    "df = df.withColumn(\"pickup_epoch\", unix_timestamp(\"tpep_pickup_datetime\"))\n",
    "\n",
    "# Get the maximum/latest pickup time in the dataset\n",
    "max_time = df.select(spark_max(\"pickup_epoch\")).collect()[0][0] if df.count() > 0 else None\n",
    "print(f\"Max timestamp in dataset: {max_time}\")\n",
    "\n",
    "\n"
   ]
  },
  {
   "cell_type": "code",
   "execution_count": 0,
   "metadata": {
    "application/vnd.databricks.v1+cell": {
     "cellMetadata": {
      "byteLimit": 2048000,
      "rowLimit": 10000
     },
     "inputWidgets": {},
     "nuid": "46546904-29be-4c1a-84f1-6ecf5c69d8f8",
     "showTitle": false,
     "tableResultSettingsMap": {},
     "title": ""
    }
   },
   "outputs": [
    {
     "data": {
      "text/html": [
       "<style scoped>\n",
       "  .table-result-container {\n",
       "    max-height: 300px;\n",
       "    overflow: auto;\n",
       "  }\n",
       "  table, th, td {\n",
       "    border: 1px solid black;\n",
       "    border-collapse: collapse;\n",
       "  }\n",
       "  th, td {\n",
       "    padding: 5px;\n",
       "  }\n",
       "  th {\n",
       "    text-align: left;\n",
       "  }\n",
       "</style><div class='table-result-container'><table class='table-result'><thead style='background-color: white'><tr><th>VendorID</th><th>tpep_pickup_datetime</th><th>tpep_dropoff_datetime</th><th>passenger_count</th><th>trip_distance</th><th>RatecodeID</th><th>store_and_fwd_flag</th><th>PULocationID</th><th>DOLocationID</th><th>payment_type</th><th>fare_amount</th><th>extra</th><th>mta_tax</th><th>tip_amount</th><th>tolls_amount</th><th>improvement_surcharge</th><th>total_amount</th><th>congestion_surcharge</th><th>airport_fee</th><th>Revenue</th><th>trip_date</th><th>pickup_epoch</th></tr></thead><tbody></tbody></table></div>"
      ]
     },
     "metadata": {
      "application/vnd.databricks.v1+output": {
       "addedWidgets": {},
       "aggData": [],
       "aggError": "",
       "aggOverflow": false,
       "aggSchema": [],
       "aggSeriesLimitReached": false,
       "aggType": "",
       "arguments": {},
       "columnCustomDisplayInfos": {},
       "data": [],
       "datasetInfos": [],
       "dbfsResultPath": null,
       "isJsonSchema": true,
       "metadata": {},
       "overflow": false,
       "plotOptions": {
        "customPlotOptions": {},
        "displayType": "table",
        "pivotAggregation": null,
        "pivotColumns": null,
        "xColumns": null,
        "yColumns": null
       },
       "removedWidgets": [],
       "schema": [
        {
         "metadata": "{}",
         "name": "VendorID",
         "type": "\"integer\""
        },
        {
         "metadata": "{}",
         "name": "tpep_pickup_datetime",
         "type": "\"string\""
        },
        {
         "metadata": "{}",
         "name": "tpep_dropoff_datetime",
         "type": "\"string\""
        },
        {
         "metadata": "{}",
         "name": "passenger_count",
         "type": "\"double\""
        },
        {
         "metadata": "{}",
         "name": "trip_distance",
         "type": "\"double\""
        },
        {
         "metadata": "{}",
         "name": "RatecodeID",
         "type": "\"double\""
        },
        {
         "metadata": "{}",
         "name": "store_and_fwd_flag",
         "type": "\"string\""
        },
        {
         "metadata": "{}",
         "name": "PULocationID",
         "type": "\"integer\""
        },
        {
         "metadata": "{}",
         "name": "DOLocationID",
         "type": "\"integer\""
        },
        {
         "metadata": "{}",
         "name": "payment_type",
         "type": "\"integer\""
        },
        {
         "metadata": "{}",
         "name": "fare_amount",
         "type": "\"double\""
        },
        {
         "metadata": "{}",
         "name": "extra",
         "type": "\"double\""
        },
        {
         "metadata": "{}",
         "name": "mta_tax",
         "type": "\"double\""
        },
        {
         "metadata": "{}",
         "name": "tip_amount",
         "type": "\"double\""
        },
        {
         "metadata": "{}",
         "name": "tolls_amount",
         "type": "\"double\""
        },
        {
         "metadata": "{}",
         "name": "improvement_surcharge",
         "type": "\"double\""
        },
        {
         "metadata": "{}",
         "name": "total_amount",
         "type": "\"double\""
        },
        {
         "metadata": "{}",
         "name": "congestion_surcharge",
         "type": "\"double\""
        },
        {
         "metadata": "{}",
         "name": "airport_fee",
         "type": "\"string\""
        },
        {
         "metadata": "{}",
         "name": "Revenue",
         "type": "\"double\""
        },
        {
         "metadata": "{}",
         "name": "trip_date",
         "type": "\"date\""
        },
        {
         "metadata": "{}",
         "name": "pickup_epoch",
         "type": "\"long\""
        }
       ],
       "type": "table"
      }
     },
     "output_type": "display_data"
    }
   ],
   "source": [
    "# Calculate the maximum time in the dataset\n",
    "max_time = df.agg({\"pickup_epoch\": \"max\"}).collect()[0][0]\n",
    "\n",
    "# Check if max_time is not None\n",
    "if max_time is not None:\n",
    "    # Only keep trips started in the last 10 seconds of the dataset\n",
    "    recent_df = df.filter(df.pickup_epoch >= max_time - 10)\n",
    "else:\n",
    "    # Handle the case where max_time is None\n",
    "    recent_df = spark.createDataFrame([], df.schema)\n",
    "\n",
    "display(recent_df)"
   ]
  },
  {
   "cell_type": "code",
   "execution_count": 0,
   "metadata": {
    "application/vnd.databricks.v1+cell": {
     "cellMetadata": {
      "byteLimit": 2048000,
      "rowLimit": 10000
     },
     "inputWidgets": {},
     "nuid": "fdb5ec17-7504-43aa-968e-4f5b244f499e",
     "showTitle": false,
     "tableResultSettingsMap": {},
     "title": ""
    }
   },
   "outputs": [
    {
     "name": "stdout",
     "output_type": "stream",
     "text": [
      "+------------+---------------------+\n",
      "|PULocationID|Last_10sec_Passengers|\n",
      "+------------+---------------------+\n",
      "+------------+---------------------+\n",
      "\n"
     ]
    }
   ],
   "source": [
    "from pyspark.sql.functions import sum as spark_sum\n",
    "\n",
    "# Sum up passengers from recent pickups\n",
    "recent_pickups = recent_df.groupBy(\"PULocationID\") \\\n",
    "    .agg(spark_sum(\"passenger_count\").alias(\"Last_10sec_Passengers\")) \\\n",
    "    .orderBy(\"Last_10sec_Passengers\", ascending=False)\n",
    "\n",
    "# Show the result\n",
    "recent_pickups.show()\n"
   ]
  },
  {
   "cell_type": "code",
   "execution_count": 0,
   "metadata": {
    "application/vnd.databricks.v1+cell": {
     "cellMetadata": {
      "byteLimit": 2048000,
      "rowLimit": 10000
     },
     "inputWidgets": {},
     "nuid": "88e7f599-1caf-4ba3-a217-0d2dbc8edef6",
     "showTitle": false,
     "tableResultSettingsMap": {},
     "title": ""
    }
   },
   "outputs": [],
   "source": [
    "passenger_by_area.write.mode(\"overwrite\") \\\n",
    "    .parquet(\"abfss://raw-data@nyctaxiproject003.dfs.core.windows.net/results/passenger_by_area.parquet\")\n"
   ]
  },
  {
   "cell_type": "code",
   "execution_count": 0,
   "metadata": {
    "application/vnd.databricks.v1+cell": {
     "cellMetadata": {
      "byteLimit": 2048000,
      "rowLimit": 10000
     },
     "inputWidgets": {},
     "nuid": "69a073d2-fcd7-440e-9421-bef81a62d219",
     "showTitle": false,
     "tableResultSettingsMap": {},
     "title": ""
    }
   },
   "outputs": [],
   "source": [
    "passenger_by_area.coalesce(1).write.mode(\"overwrite\") \\\n",
    "    .option(\"header\", \"true\") \\\n",
    "    .csv(\"abfss://raw-data@nyctaxiproject003.dfs.core.windows.net/results/passenger_by_area_csv\")\n"
   ]
  }
 ],
 "metadata": {
  "application/vnd.databricks.v1+notebook": {
   "computePreferences": null,
   "dashboards": [],
   "environmentMetadata": {
    "base_environment": "",
    "environment_version": "2"
   },
   "inputWidgetPreferences": null,
   "language": "python",
   "notebookMetadata": {
    "pythonIndentUnit": 4
   },
   "notebookName": "Untitled Notebook 2025-07-23 20:34:02",
   "widgets": {}
  },
  "language_info": {
   "name": "python"
  }
 },
 "nbformat": 4,
 "nbformat_minor": 0
}
